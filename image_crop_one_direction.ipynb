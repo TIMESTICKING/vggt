{
 "cells": [
  {
   "cell_type": "code",
   "execution_count": 2,
   "id": "93f572ee",
   "metadata": {},
   "outputs": [],
   "source": [
    "import os\n",
    "from PIL import Image\n",
    "\n",
    "def crop_images_from_folder(folder_path):\n",
    "    crop_folder = os.path.join(folder_path, \"crop_shortedge\")\n",
    "    os.makedirs(crop_folder, exist_ok=True)\n",
    "\n",
    "    for filename in os.listdir(folder_path):\n",
    "        file_path = os.path.join(folder_path, filename)\n",
    "        if not os.path.isfile(file_path):\n",
    "            continue\n",
    "\n",
    "        try:\n",
    "            with Image.open(file_path) as img:\n",
    "                width, height = img.size\n",
    "                edge_length = min(width, height)\n",
    "                overlap = int(edge_length * 0.2)\n",
    "                step = edge_length - overlap\n",
    "\n",
    "                count = 0\n",
    "                if height > width:  # Vertical image, move window vertically\n",
    "                    for top in range(0, height, step):\n",
    "                        bottom = min(top + edge_length, height)\n",
    "                        cropped_img = img.crop((0, top, width, bottom))\n",
    "                        crop_filename = f\"{os.path.splitext(filename)[0]}_crop_{count}.png\"\n",
    "                        cropped_img.save(os.path.join(crop_folder, crop_filename))\n",
    "                        count += 1\n",
    "                else:  # Horizontal image, move window horizontally\n",
    "                    for left in range(0, width, step):\n",
    "                        right = min(left + edge_length, width)\n",
    "                        cropped_img = img.crop((left, 0, right, height))\n",
    "                        crop_filename = f\"{os.path.splitext(filename)[0]}_crop_{count}.png\"\n",
    "                        cropped_img.save(os.path.join(crop_folder, crop_filename))\n",
    "                        count += 1\n",
    "        except Exception as e:\n",
    "            print(f\"Error processing file {filename}: {e}\")\n",
    "\n",
    "# Example usage\n",
    "crop_images_from_folder(\"people/images\")"
   ]
  }
 ],
 "metadata": {
  "kernelspec": {
   "display_name": "vggt",
   "language": "python",
   "name": "python3"
  },
  "language_info": {
   "codemirror_mode": {
    "name": "ipython",
    "version": 3
   },
   "file_extension": ".py",
   "mimetype": "text/x-python",
   "name": "python",
   "nbconvert_exporter": "python",
   "pygments_lexer": "ipython3",
   "version": "3.10.16"
  }
 },
 "nbformat": 4,
 "nbformat_minor": 5
}
