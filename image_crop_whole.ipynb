{
 "cells": [
  {
   "cell_type": "code",
   "execution_count": 1,
   "id": "9d7650bf",
   "metadata": {},
   "outputs": [],
   "source": [
    "import os\n",
    "from PIL import Image\n",
    "\n",
    "def split_image_into_patches(input_folder, output_folder, patch_size=518, overlap_ratio=0.75):\n",
    "    if not os.path.exists(output_folder):\n",
    "        os.makedirs(output_folder)\n",
    "\n",
    "    for filename in os.listdir(input_folder):\n",
    "        if filename.lower().endswith(('.png', '.jpg', '.jpeg', '.bmp', '.tiff')):\n",
    "            image_path = os.path.join(input_folder, filename)\n",
    "            image = Image.open(image_path)\n",
    "            width, height = image.size\n",
    "\n",
    "            step = int(patch_size * (1 - overlap_ratio))\n",
    "            patch_count = 0\n",
    "\n",
    "            for top in range(0, height - patch_size + 1, step):\n",
    "                for left in range(0, width - patch_size + 1, step):\n",
    "                    box = (left, top, left + patch_size, top + patch_size)\n",
    "                    patch = image.crop(box)\n",
    "                    patch_filename = f\"{os.path.splitext(filename)[0]}_patch_{patch_count}.png\"\n",
    "                    patch.save(os.path.join(output_folder, patch_filename))\n",
    "                    patch_count += 1\n",
    "\n",
    "            # Handle the right and bottom edges\n",
    "            for top in range(0, height - patch_size + 1, step):\n",
    "                box = (width - patch_size, top, width, top + patch_size)\n",
    "                patch = image.crop(box)\n",
    "                patch_filename = f\"{os.path.splitext(filename)[0]}_patch_{patch_count}.png\"\n",
    "                patch.save(os.path.join(output_folder, patch_filename))\n",
    "                patch_count += 1\n",
    "\n",
    "            for left in range(0, width - patch_size + 1, step):\n",
    "                box = (left, height - patch_size, left + patch_size, height)\n",
    "                patch = image.crop(box)\n",
    "                patch_filename = f\"{os.path.splitext(filename)[0]}_patch_{patch_count}.png\"\n",
    "                patch.save(os.path.join(output_folder, patch_filename))\n",
    "                patch_count += 1\n",
    "\n",
    "            # Handle the bottom-right corner\n",
    "            box = (width - patch_size, height - patch_size, width, height)\n",
    "            patch = image.crop(box)\n",
    "            patch_filename = f\"{os.path.splitext(filename)[0]}_patch_{patch_count}.png\"\n",
    "            patch.save(os.path.join(output_folder, patch_filename))\n",
    "\n",
    "# Example usage\n",
    "input_folder = \"people/images\"\n",
    "output_folder = f\"{input_folder}/cropped_800\"\n",
    "split_image_into_patches(input_folder, output_folder, patch_size=800, overlap_ratio=0.55)"
   ]
  }
 ],
 "metadata": {
  "kernelspec": {
   "display_name": "vggt",
   "language": "python",
   "name": "python3"
  },
  "language_info": {
   "codemirror_mode": {
    "name": "ipython",
    "version": 3
   },
   "file_extension": ".py",
   "mimetype": "text/x-python",
   "name": "python",
   "nbconvert_exporter": "python",
   "pygments_lexer": "ipython3",
   "version": "3.10.16"
  }
 },
 "nbformat": 4,
 "nbformat_minor": 5
}
